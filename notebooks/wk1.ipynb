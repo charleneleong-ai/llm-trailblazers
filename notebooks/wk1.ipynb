{
 "cells": [
  {
   "cell_type": "code",
   "execution_count": 2,
   "metadata": {},
   "outputs": [],
   "source": [
    "# # Step 1: Import necessary libraries and classes\n",
    "# import transformers\n",
    "# from transformers import AutoModelForCausalLM, AutoTokenizer, Trainer, TrainingArguments\n",
    "# from datasets import load_dataset\n",
    "\n",
    "# # Step 2: Load pre-trained model and tokenizer\n",
    "# model_name = \"gpt-4\"  # Replace with the model name (e.g., \"gpt-3\", \"llama-2\")\n",
    "# model = AutoModelForCausalLM.from_pretrained(model_name)\n",
    "# tokenizer = AutoTokenizer.from_pretrained(model_name)\n",
    "\n",
    "# # Step 3: Prepare dataset (loading a dataset or creating your own)\n",
    "# dataset = load_dataset('your-dataset')  # You can use Hugging Face Datasets library\n",
    "\n"
   ]
  },
  {
   "cell_type": "code",
   "execution_count": 3,
   "metadata": {},
   "outputs": [],
   "source": [
    "# # Step 4: Tokenize dataset\n",
    "# def tokenize_function(examples):\n",
    "#     return tokenizer(examples['text'], padding=\"max_length\", truncation=True)\n",
    "\n",
    "# tokenized_dataset = dataset.map(tokenize_function, batched=True)\n",
    "\n",
    "# # Step 5: Define training arguments\n",
    "# training_args = TrainingArguments(\n",
    "#     output_dir='./results',             # Directory to save model checkpoints\n",
    "#     per_device_train_batch_size=8,      # Batch size per device during training\n",
    "#     per_device_eval_batch_size=8,       # Batch size for evaluation\n",
    "#     num_train_epochs=3,                 # Number of epochs to train for\n",
    "#     logging_dir='./logs',               # Directory for logs\n",
    "#     evaluation_strategy=\"steps\",        # Evaluation strategy\n",
    "#     save_total_limit=2,                 # Only save the 2 best model checkpoints\n",
    "#     learning_rate=5e-5,                 # Learning rate for optimizer\n",
    "#     warmup_steps=500,                   # Warmup steps for learning rate scheduler\n",
    "# )\n",
    "\n",
    "# # Step 6: Initialize Trainer with model, dataset, and training arguments\n",
    "# trainer = Trainer(\n",
    "#     model=model,\n",
    "#     args=training_args,\n",
    "#     train_dataset=tokenized_dataset['train'],  # Training dataset\n",
    "#     eval_dataset=tokenized_dataset['validation'],  # Validation dataset (optional)\n",
    "# )\n",
    "\n",
    "# # Step 7: Fine-tune the model\n",
    "# trainer.train()\n",
    "\n",
    "# # Step 8: Save the fine-tuned model\n",
    "# trainer.save_model('./fine_tuned_model')\n",
    "# tokenizer.save_pretrained('./fine_tuned_model')\n",
    "\n",
    "# # Optional Step: Push the fine-tuned model to Hugging Face Hub for future use\n",
    "# model.push_to_hub('your-finetuned-llm')\n",
    "# tokenizer.push_to_hub('your-finetuned-llm')"
   ]
  },
  {
   "cell_type": "code",
   "execution_count": 4,
   "metadata": {},
   "outputs": [
    {
     "data": {
      "application/vnd.jupyter.widget-view+json": {
       "model_id": "b804de9acb3a4fb3ad98346e43463ef2",
       "version_major": 2,
       "version_minor": 0
      },
      "text/plain": [
       "config.json:   0%|          | 0.00/762 [00:00<?, ?B/s]"
      ]
     },
     "metadata": {},
     "output_type": "display_data"
    },
    {
     "data": {
      "application/vnd.jupyter.widget-view+json": {
       "model_id": "0cb0101647d64a23a0257139b19a114a",
       "version_major": 2,
       "version_minor": 0
      },
      "text/plain": [
       "model.safetensors:   0%|          | 0.00/353M [00:00<?, ?B/s]"
      ]
     },
     "metadata": {},
     "output_type": "display_data"
    },
    {
     "data": {
      "application/vnd.jupyter.widget-view+json": {
       "model_id": "23ce6075a5d14542bfd01b0edd7a547d",
       "version_major": 2,
       "version_minor": 0
      },
      "text/plain": [
       "generation_config.json:   0%|          | 0.00/124 [00:00<?, ?B/s]"
      ]
     },
     "metadata": {},
     "output_type": "display_data"
    },
    {
     "data": {
      "application/vnd.jupyter.widget-view+json": {
       "model_id": "249c90b88618474ca5c7b8e7415683fe",
       "version_major": 2,
       "version_minor": 0
      },
      "text/plain": [
       "tokenizer_config.json:   0%|          | 0.00/26.0 [00:00<?, ?B/s]"
      ]
     },
     "metadata": {},
     "output_type": "display_data"
    },
    {
     "data": {
      "application/vnd.jupyter.widget-view+json": {
       "model_id": "0a5347d587db4f5cb091cc22b704f377",
       "version_major": 2,
       "version_minor": 0
      },
      "text/plain": [
       "vocab.json:   0%|          | 0.00/1.04M [00:00<?, ?B/s]"
      ]
     },
     "metadata": {},
     "output_type": "display_data"
    },
    {
     "data": {
      "application/vnd.jupyter.widget-view+json": {
       "model_id": "73bd03d07099466a88867b651ec14054",
       "version_major": 2,
       "version_minor": 0
      },
      "text/plain": [
       "merges.txt:   0%|          | 0.00/456k [00:00<?, ?B/s]"
      ]
     },
     "metadata": {},
     "output_type": "display_data"
    },
    {
     "data": {
      "application/vnd.jupyter.widget-view+json": {
       "model_id": "4d63b2fdf8b54a5bab4a3a59dd5cafdf",
       "version_major": 2,
       "version_minor": 0
      },
      "text/plain": [
       "tokenizer.json:   0%|          | 0.00/1.36M [00:00<?, ?B/s]"
      ]
     },
     "metadata": {},
     "output_type": "display_data"
    },
    {
     "name": "stderr",
     "output_type": "stream",
     "text": [
      "/home/user/llm-trailblazers/.venv/lib/python3.11/site-packages/transformers/tokenization_utils_base.py:1601: FutureWarning: `clean_up_tokenization_spaces` was not set. It will be set to `True` by default. This behavior will be depracted in transformers v4.45, and will be then set to `False` by default. For more details check this issue: https://github.com/huggingface/transformers/issues/31884\n",
      "  warnings.warn(\n",
      "Setting `pad_token_id` to `eos_token_id`:50256 for open-end generation.\n",
      "/home/user/llm-trailblazers/.venv/lib/python3.11/site-packages/transformers/generation/utils.py:1258: UserWarning: Using the model-agnostic default `max_length` (=20) to control the generation length. We recommend setting `max_new_tokens` to control the maximum length of the generation.\n",
      "  warnings.warn(\n"
     ]
    },
    {
     "name": "stdout",
     "output_type": "stream",
     "text": [
      "Hello, world!\n",
      "\n",
      "\n",
      "\n",
      "\n",
      "\n",
      "\n",
      "\n",
      "\n",
      "\n",
      "\n",
      "\n",
      "\n",
      "\n",
      "\n",
      "\n",
      "\n"
     ]
    }
   ],
   "source": [
    "from transformers import AutoModelForCausalLM, AutoTokenizer\n",
    "model = AutoModelForCausalLM.from_pretrained(\"distilgpt2\")\n",
    "tokenizer = AutoTokenizer.from_pretrained(\"distilgpt2\")\n",
    "\n",
    "text = \"Hello, world!\"\n",
    "inputs = tokenizer(text, return_tensors=\"pt\")\n",
    "outputs = model.generate(**inputs)\n",
    "print(tokenizer.decode(outputs[0]))"
   ]
  },
  {
   "cell_type": "code",
   "execution_count": null,
   "metadata": {},
   "outputs": [],
   "source": []
  }
 ],
 "metadata": {
  "kernelspec": {
   "display_name": ".venv",
   "language": "python",
   "name": "python3"
  },
  "language_info": {
   "codemirror_mode": {
    "name": "ipython",
    "version": 3
   },
   "file_extension": ".py",
   "mimetype": "text/x-python",
   "name": "python",
   "nbconvert_exporter": "python",
   "pygments_lexer": "ipython3",
   "version": "3.11.9"
  }
 },
 "nbformat": 4,
 "nbformat_minor": 2
}
